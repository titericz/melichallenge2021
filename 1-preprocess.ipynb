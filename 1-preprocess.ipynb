{
 "cells": [
  {
   "cell_type": "code",
   "execution_count": 1,
   "id": "41349f2e",
   "metadata": {},
   "outputs": [],
   "source": [
    "### https://ml-challenge.mercadolibre.com/\n",
    "\n",
    "import pandas as pd\n",
    "import numpy as np\n",
    "import gc\n",
    "\n",
    "# Convert 64bit to 32bit\n",
    "def reduce_mem(df):\n",
    "    for col in df.columns:\n",
    "        if df[col].dtype == 'int64':\n",
    "            df[col] = df[col].astype('int32')\n",
    "        if df[col].dtype == 'float64':\n",
    "            df[col] = df[col].astype('float32')\n",
    "    _ = gc.collect()\n",
    "    return df"
   ]
  },
  {
   "cell_type": "code",
   "execution_count": 2,
   "id": "78b866e9",
   "metadata": {},
   "outputs": [
    {
     "name": "stdout",
     "output_type": "stream",
     "text": [
      "             sku       date  sold_quantity  current_price  currency  \\\n",
      "37660274  129187 2021-03-31              0        22057.0         3   \n",
      "37660275    6707 2021-03-31              0        26999.0         3   \n",
      "37660276  170355 2021-03-31              0         3400.0         3   \n",
      "37660277  246568 2021-03-31              0         6289.0         3   \n",
      "37660278   49718 2021-03-31              0         1990.0         3   \n",
      "\n",
      "          listing_type  shipping_logistic_type  shipping_payment  \\\n",
      "37660274             0                       2                 0   \n",
      "37660275             0                       1                 0   \n",
      "37660276             0                       2                 1   \n",
      "37660277             0                       0                 0   \n",
      "37660278             0                       2                 1   \n",
      "\n",
      "          minutes_active  target_stock  month  dow  item_domain_id  item_id  \\\n",
      "37660274      267.710767           8.0      3    2            8408   517891   \n",
      "37660275      266.083333          30.0      3    2            6530   517892   \n",
      "37660276        0.252633           3.0      3    2            6933   517893   \n",
      "37660277      135.416667           2.0      3    2            6851   517894   \n",
      "37660278       88.033333          20.0      3    2            7476   517895   \n",
      "\n",
      "          site_id  product_id  product_family_id  item_title_id  item_title_0  \\\n",
      "37660274        2           1                  1         478172        292865   \n",
      "37660275        2       12747              25836         455786        166562   \n",
      "37660276        2           1                  1         478173        172789   \n",
      "37660277        2       13258              24336         456765         46431   \n",
      "37660278        2           1                  1         478174        275064   \n",
      "\n",
      "          item_title_1  \n",
      "37660274        421166  \n",
      "37660275        397087  \n",
      "37660276        421167  \n",
      "37660277        402650  \n",
      "37660278        421168  \n",
      "CPU times: user 2min 51s, sys: 20.5 s, total: 3min 12s\n",
      "Wall time: 3min 2s\n"
     ]
    }
   ],
   "source": [
    "%%time\n",
    "\n",
    "train = pd.read_parquet('../input/train_data.parquet')\n",
    "test = pd.read_csv('../input/test_data.csv')\n",
    "train = train.merge(test[['sku','target_stock']], on='sku', how='left' )\n",
    "\n",
    "train['date'] = pd.to_datetime(train['date'])\n",
    "train['month'] = train['date'].dt.month\n",
    "train['dow'] = train['date'].dt.dayofweek\n",
    "\n",
    "file1 = open('../input/items_static_metadata_full.jl', 'r')\n",
    "lines = file1.readlines()\n",
    "for i in range(len(lines)):\n",
    "    lines[i] = eval( lines[i].replace('null', '-1') )\n",
    "items = pd.DataFrame().from_dict(lines)\n",
    "\n",
    "train = train.merge(items, on='sku', how='left' )\n",
    "\n",
    "train['item_title'] = train['item_title'].apply(lambda x: x.lower() )\n",
    "train['item_title_id'] = train['item_title'].factorize()[0]\n",
    "train['item_title_0'] = train['item_title'].apply(lambda x: ' '.join(x.split())[:20] ).factorize()[0]\n",
    "train['item_title_1'] = train['item_title'].apply(lambda x: ' '.join(x.split())[-20:] ).factorize()[0]\n",
    "del train['item_title']\n",
    "\n",
    "for col in ['currency', 'listing_type', 'shipping_logistic_type', 'shipping_payment', 'item_domain_id', 'item_title_id' ,'item_id', 'site_id', 'product_id', 'product_family_id']:\n",
    "    train[col] = train[col].factorize()[0]\n",
    "    \n",
    "print(train.tail())"
   ]
  },
  {
   "cell_type": "code",
   "execution_count": 3,
   "id": "0c06756b",
   "metadata": {},
   "outputs": [
    {
     "name": "stdout",
     "output_type": "stream",
     "text": [
      "Done\n",
      "CPU times: user 33.9 s, sys: 8.38 s, total: 42.3 s\n",
      "Wall time: 41.7 s\n"
     ]
    }
   ],
   "source": [
    "%%time\n",
    "\n",
    "# Sort by date\n",
    "train = train.sort_values(['sku','date'])\n",
    "\n",
    "# Convert to 32bit\n",
    "train = reduce_mem(train)\n",
    "\n",
    "# Write to disk\n",
    "train.to_parquet('train.parquet')\n",
    "print('Done')"
   ]
  },
  {
   "cell_type": "code",
   "execution_count": null,
   "id": "7a45e768",
   "metadata": {},
   "outputs": [],
   "source": []
  }
 ],
 "metadata": {
  "kernelspec": {
   "display_name": "Python 3 (ipykernel)",
   "language": "python",
   "name": "python3"
  },
  "language_info": {
   "codemirror_mode": {
    "name": "ipython",
    "version": 3
   },
   "file_extension": ".py",
   "mimetype": "text/x-python",
   "name": "python",
   "nbconvert_exporter": "python",
   "pygments_lexer": "ipython3",
   "version": "3.7.10"
  }
 },
 "nbformat": 4,
 "nbformat_minor": 5
}
